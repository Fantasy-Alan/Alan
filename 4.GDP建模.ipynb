{
 "cells": [
  {
   "cell_type": "code",
   "execution_count": 513,
   "metadata": {},
   "outputs": [],
   "source": [
    "import numpy as np\n",
    "import pandas as pd\n",
    "from scipy import stats\n",
    "import statsmodels.api as sm\n",
    "from statsmodels.graphics.api import qqplot"
   ]
  },
  {
   "cell_type": "code",
   "execution_count": 514,
   "metadata": {},
   "outputs": [
    {
     "data": {
      "text/html": [
       "<div>\n",
       "<style>\n",
       "    .dataframe thead tr:only-child th {\n",
       "        text-align: right;\n",
       "    }\n",
       "\n",
       "    .dataframe thead th {\n",
       "        text-align: left;\n",
       "    }\n",
       "\n",
       "    .dataframe tbody tr th {\n",
       "        vertical-align: top;\n",
       "    }\n",
       "</style>\n",
       "<table border=\"1\" class=\"dataframe\">\n",
       "  <thead>\n",
       "    <tr style=\"text-align: right;\">\n",
       "      <th></th>\n",
       "      <th>2017年</th>\n",
       "      <th>2016年</th>\n",
       "      <th>2015年</th>\n",
       "      <th>2014年</th>\n",
       "      <th>2013年</th>\n",
       "      <th>2012年</th>\n",
       "      <th>2011年</th>\n",
       "    </tr>\n",
       "  </thead>\n",
       "  <tbody>\n",
       "    <tr>\n",
       "      <th>国内生产总值(亿元)</th>\n",
       "      <td>827122.00</td>\n",
       "      <td>743585.0</td>\n",
       "      <td>689052.1</td>\n",
       "      <td>643974.0</td>\n",
       "      <td>595244.4</td>\n",
       "      <td>540367.4</td>\n",
       "      <td>489300.6</td>\n",
       "    </tr>\n",
       "    <tr>\n",
       "      <th>国内生产总值增长率(%)</th>\n",
       "      <td>11.23</td>\n",
       "      <td>6.7</td>\n",
       "      <td>6.9</td>\n",
       "      <td>7.3</td>\n",
       "      <td>7.8</td>\n",
       "      <td>7.9</td>\n",
       "      <td>9.5</td>\n",
       "    </tr>\n",
       "    <tr>\n",
       "      <th>人均国内生产总值(元/人)</th>\n",
       "      <td>0.00</td>\n",
       "      <td>53935.0</td>\n",
       "      <td>50251.0</td>\n",
       "      <td>47203.0</td>\n",
       "      <td>43852.0</td>\n",
       "      <td>40007.0</td>\n",
       "      <td>36403.0</td>\n",
       "    </tr>\n",
       "    <tr>\n",
       "      <th>人均国内生产总值增长率(%)</th>\n",
       "      <td>0.00</td>\n",
       "      <td>6.1</td>\n",
       "      <td>6.4</td>\n",
       "      <td>6.8</td>\n",
       "      <td>7.2</td>\n",
       "      <td>7.3</td>\n",
       "      <td>9.0</td>\n",
       "    </tr>\n",
       "    <tr>\n",
       "      <th>居民消费水平(亿元)</th>\n",
       "      <td>0.00</td>\n",
       "      <td>297990.0</td>\n",
       "      <td>271306.0</td>\n",
       "      <td>248892.0</td>\n",
       "      <td>226660.0</td>\n",
       "      <td>205786.0</td>\n",
       "      <td>183876.0</td>\n",
       "    </tr>\n",
       "    <tr>\n",
       "      <th>投资(亿元)</th>\n",
       "      <td>0.00</td>\n",
       "      <td>445595.0</td>\n",
       "      <td>417746.1</td>\n",
       "      <td>395082.0</td>\n",
       "      <td>368584.4</td>\n",
       "      <td>334581.4</td>\n",
       "      <td>305424.6</td>\n",
       "    </tr>\n",
       "  </tbody>\n",
       "</table>\n",
       "</div>"
      ],
      "text/plain": [
       "                    2017年     2016年     2015年     2014年     2013年     2012年  \\\n",
       "国内生产总值(亿元)      827122.00  743585.0  689052.1  643974.0  595244.4  540367.4   \n",
       "国内生产总值增长率(%)        11.23       6.7       6.9       7.3       7.8       7.9   \n",
       "人均国内生产总值(元/人)        0.00   53935.0   50251.0   47203.0   43852.0   40007.0   \n",
       "人均国内生产总值增长率(%)       0.00       6.1       6.4       6.8       7.2       7.3   \n",
       "居民消费水平(亿元)           0.00  297990.0  271306.0  248892.0  226660.0  205786.0   \n",
       "投资(亿元)               0.00  445595.0  417746.1  395082.0  368584.4  334581.4   \n",
       "\n",
       "                   2011年  \n",
       "国内生产总值(亿元)      489300.6  \n",
       "国内生产总值增长率(%)         9.5  \n",
       "人均国内生产总值(元/人)    36403.0  \n",
       "人均国内生产总值增长率(%)       9.0  \n",
       "居民消费水平(亿元)      183876.0  \n",
       "投资(亿元)          305424.6  "
      ]
     },
     "execution_count": 514,
     "metadata": {},
     "output_type": "execute_result"
    }
   ],
   "source": [
    "import warnings\n",
    "warnings.filterwarnings('ignore')\n",
    "index=['国内生产总值(亿元)','国内生产总值增长率(%)','人均国内生产总值(元/人)','人均国内生产总值增长率(%)','居民消费水平(亿元)','投资(亿元)']\n",
    "name=['2017年','2016年','2015年','2014年','2013年','2012年','2011年']\n",
    "op1=[827122.00,11.23,0,0,0,0]\n",
    "op2=[743585.00,6.70,53935.00,6.10,297990,445595.00]\n",
    "op3=[689052.10,6.90,50251.00,6.40,271306,417746.10]\n",
    "op4=[643974.00,7.30,47203.00,6.80,248892,395082.00]\n",
    "op5=[595244.40,7.80,43852.00,7.20,226660,368584.40]\n",
    "op6=[540367.40,7.90,40007.00,7.30,205786,334581.40]\n",
    "op7=[489300.60,9.50,36403.00,9.00,183876,305424.60]\n",
    "df2 = pd.DataFrame([op1,op2,op3,op4,op5,op6,op7])\n",
    "df2=df2.T\n",
    "df2.index=index\n",
    "df2.columns=name\n",
    "df2"
   ]
  },
  {
   "cell_type": "code",
   "execution_count": 515,
   "metadata": {},
   "outputs": [],
   "source": [
    "gdp = df2.loc[['国内生产总值(亿元)']]"
   ]
  },
  {
   "cell_type": "code",
   "execution_count": 516,
   "metadata": {},
   "outputs": [
    {
     "data": {
      "text/html": [
       "<div>\n",
       "<style>\n",
       "    .dataframe thead tr:only-child th {\n",
       "        text-align: right;\n",
       "    }\n",
       "\n",
       "    .dataframe thead th {\n",
       "        text-align: left;\n",
       "    }\n",
       "\n",
       "    .dataframe tbody tr th {\n",
       "        vertical-align: top;\n",
       "    }\n",
       "</style>\n",
       "<table border=\"1\" class=\"dataframe\">\n",
       "  <thead>\n",
       "    <tr style=\"text-align: right;\">\n",
       "      <th></th>\n",
       "      <th>2017年</th>\n",
       "      <th>2016年</th>\n",
       "      <th>2015年</th>\n",
       "      <th>2014年</th>\n",
       "      <th>2013年</th>\n",
       "      <th>2012年</th>\n",
       "      <th>2011年</th>\n",
       "    </tr>\n",
       "  </thead>\n",
       "  <tbody>\n",
       "    <tr>\n",
       "      <th>国内生产总值(亿元)</th>\n",
       "      <td>827122.0</td>\n",
       "      <td>743585.0</td>\n",
       "      <td>689052.1</td>\n",
       "      <td>643974.0</td>\n",
       "      <td>595244.4</td>\n",
       "      <td>540367.4</td>\n",
       "      <td>489300.6</td>\n",
       "    </tr>\n",
       "  </tbody>\n",
       "</table>\n",
       "</div>"
      ],
      "text/plain": [
       "               2017年     2016年     2015年     2014年     2013年     2012年  \\\n",
       "国内生产总值(亿元)  827122.0  743585.0  689052.1  643974.0  595244.4  540367.4   \n",
       "\n",
       "               2011年  \n",
       "国内生产总值(亿元)  489300.6  "
      ]
     },
     "execution_count": 516,
     "metadata": {},
     "output_type": "execute_result"
    }
   ],
   "source": [
    "df2.loc[['国内生产总值(亿元)']]"
   ]
  },
  {
   "cell_type": "code",
   "execution_count": 517,
   "metadata": {},
   "outputs": [
    {
     "name": "stdout",
     "output_type": "stream",
     "text": [
      "[[827122.  743585.  689052.1 643974.  595244.4 540367.4 489300.6]]\n"
     ]
    }
   ],
   "source": [
    "print(gdp.values)"
   ]
  },
  {
   "cell_type": "code",
   "execution_count": 518,
   "metadata": {},
   "outputs": [],
   "source": [
    "l=gdp.values.reshape(7,)\n",
    "l2=[]\n",
    "for each in l[::-1]:\n",
    "    l2.append(each)\n",
    "gdp_dta=pd.Series(l2)"
   ]
  },
  {
   "cell_type": "code",
   "execution_count": 519,
   "metadata": {},
   "outputs": [],
   "source": [
    "gdp_dta.index = pd.Index(sm.tsa.datetools.dates_from_range('2011','2017'))"
   ]
  },
  {
   "cell_type": "code",
   "execution_count": 520,
   "metadata": {
    "scrolled": true
   },
   "outputs": [
    {
     "data": {
      "text/plain": [
       "<matplotlib.axes._subplots.AxesSubplot at 0x1a037fb5550>"
      ]
     },
     "execution_count": 520,
     "metadata": {},
     "output_type": "execute_result"
    },
    {
     "data": {
      "image/png": "[encoded data removed]",
      "text/plain": [
       "<Figure size 864x576 with 1 Axes>"
      ]
     },
     "metadata": {},
     "output_type": "display_data"
    }
   ],
   "source": [
    "gdp_dta.plot(figsize=(12,8))"
   ]
  },
  {
   "cell_type": "code",
   "execution_count": 334,
   "metadata": {},
   "outputs": [
    {
     "data": {
      "text/plain": [
       "2011-12-31    489300.6\n",
       "2012-12-31    540367.4\n",
       "2013-12-31    595244.4\n",
       "2014-12-31    643974.0\n",
       "2015-12-31    689052.1\n",
       "2016-12-31    743585.0\n",
       "2017-12-31    827122.0\n",
       "dtype: float64"
      ]
     },
     "execution_count": 334,
     "metadata": {},
     "output_type": "execute_result"
    }
   ],
   "source": [
    "gdp_dta"
   ]
  },
  {
   "cell_type": "code",
   "execution_count": 511,
   "metadata": {
    "scrolled": true
   },
   "outputs": [
    {
     "data": {
      "image/png": "[encoded data removed]",
      "text/plain": [
       "<Figure size 864x576 with 2 Axes>"
      ]
     },
     "metadata": {},
     "output_type": "display_data"
    }
   ],
   "source": [
    "#gdp_dta= gdp_dta.diff(1)[1:]\n",
    "fig = plt.figure(figsize=(12,8))\n",
    "ax1=fig.add_subplot(211)\n",
    "fig = sm.graphics.tsa.plot_acf(gdp_dta,ax=ax1)\n",
    "ax2 = fig.add_subplot(212)\n",
    "fig = sm.graphics.tsa.plot_pacf(gdp_dta,ax=ax2)"
   ]
  },
  {
   "cell_type": "code",
   "execution_count": 356,
   "metadata": {
    "scrolled": true
   },
   "outputs": [
    {
     "data": {
      "text/plain": [
       "2012-12-31    51066.8\n",
       "2013-12-31    54877.0\n",
       "2014-12-31    48729.6\n",
       "2015-12-31    45078.1\n",
       "2016-12-31    54532.9\n",
       "2017-12-31    83537.0\n",
       "dtype: float64"
      ]
     },
     "execution_count": 356,
     "metadata": {},
     "output_type": "execute_result"
    }
   ],
   "source": [
    "gdp_dta"
   ]
  },
  {
   "cell_type": "code",
   "execution_count": 494,
   "metadata": {
    "scrolled": true
   },
   "outputs": [
    {
     "data": {
      "text/plain": [
       "16.69895817718483"
      ]
     },
     "execution_count": 494,
     "metadata": {},
     "output_type": "execute_result"
    }
   ],
   "source": [
    "#touzi=kxiaofei\n",
    "#k=touzi/xiaofei\n",
    "#beta=op2[-1]/op2[-2]\n",
    "#β=投资/消费今年-消费去年\n",
    "beta=op2[-1]/(op2[-2]-op3[-2])\n",
    "alpha=(op2[-2]/op3[-2])-1\n",
    "beta"
   ]
  },
  {
   "cell_type": "code",
   "execution_count": 475,
   "metadata": {},
   "outputs": [],
   "source": [
    "xiaofei2017=op2[-2]*(1+alpha)"
   ]
  },
  {
   "cell_type": "code",
   "execution_count": 537,
   "metadata": {},
   "outputs": [],
   "source": [
    "op1.insert(5,int(xiaofei2017))"
   ]
  },
  {
   "cell_type": "code",
   "execution_count": 478,
   "metadata": {},
   "outputs": [],
   "source": [
    "touzi2017=op1[0]-op1[4]"
   ]
  },
  {
   "cell_type": "code",
   "execution_count": 538,
   "metadata": {},
   "outputs": [],
   "source": [
    "op1.insert(6,touzi2017)"
   ]
  },
  {
   "cell_type": "code",
   "execution_count": 488,
   "metadata": {},
   "outputs": [
    {
     "data": {
      "text/html": [
       "<div>\n",
       "<style>\n",
       "    .dataframe thead tr:only-child th {\n",
       "        text-align: right;\n",
       "    }\n",
       "\n",
       "    .dataframe thead th {\n",
       "        text-align: left;\n",
       "    }\n",
       "\n",
       "    .dataframe tbody tr th {\n",
       "        vertical-align: top;\n",
       "    }\n",
       "</style>\n",
       "<table border=\"1\" class=\"dataframe\">\n",
       "  <thead>\n",
       "    <tr style=\"text-align: right;\">\n",
       "      <th></th>\n",
       "      <th>2017年</th>\n",
       "      <th>2016年</th>\n",
       "      <th>2015年</th>\n",
       "      <th>2014年</th>\n",
       "      <th>2013年</th>\n",
       "      <th>2012年</th>\n",
       "      <th>2011年</th>\n",
       "    </tr>\n",
       "  </thead>\n",
       "  <tbody>\n",
       "    <tr>\n",
       "      <th>国内生产总值(亿元)</th>\n",
       "      <td>827122.00</td>\n",
       "      <td>743585.0</td>\n",
       "      <td>689052.1</td>\n",
       "      <td>643974.0</td>\n",
       "      <td>595244.4</td>\n",
       "      <td>540367.4</td>\n",
       "      <td>489300.6</td>\n",
       "    </tr>\n",
       "    <tr>\n",
       "      <th>国内生产总值增长率(%)</th>\n",
       "      <td>11.23</td>\n",
       "      <td>6.7</td>\n",
       "      <td>6.9</td>\n",
       "      <td>7.3</td>\n",
       "      <td>7.8</td>\n",
       "      <td>7.9</td>\n",
       "      <td>9.5</td>\n",
       "    </tr>\n",
       "    <tr>\n",
       "      <th>人均国内生产总值(元/人)</th>\n",
       "      <td>0.00</td>\n",
       "      <td>53935.0</td>\n",
       "      <td>50251.0</td>\n",
       "      <td>47203.0</td>\n",
       "      <td>43852.0</td>\n",
       "      <td>40007.0</td>\n",
       "      <td>36403.0</td>\n",
       "    </tr>\n",
       "    <tr>\n",
       "      <th>人均国内生产总值增长率(%)</th>\n",
       "      <td>0.00</td>\n",
       "      <td>6.1</td>\n",
       "      <td>6.4</td>\n",
       "      <td>6.8</td>\n",
       "      <td>7.2</td>\n",
       "      <td>7.3</td>\n",
       "      <td>9.0</td>\n",
       "    </tr>\n",
       "    <tr>\n",
       "      <th>居民消费水平(亿元)</th>\n",
       "      <td>327298.00</td>\n",
       "      <td>297990.0</td>\n",
       "      <td>271306.0</td>\n",
       "      <td>248892.0</td>\n",
       "      <td>226660.0</td>\n",
       "      <td>205786.0</td>\n",
       "      <td>183876.0</td>\n",
       "    </tr>\n",
       "    <tr>\n",
       "      <th>投资(亿元)</th>\n",
       "      <td>499824.00</td>\n",
       "      <td>445595.0</td>\n",
       "      <td>417746.1</td>\n",
       "      <td>395082.0</td>\n",
       "      <td>368584.4</td>\n",
       "      <td>334581.4</td>\n",
       "      <td>305424.6</td>\n",
       "    </tr>\n",
       "  </tbody>\n",
       "</table>\n",
       "</div>"
      ],
      "text/plain": [
       "                    2017年     2016年     2015年     2014年     2013年     2012年  \\\n",
       "国内生产总值(亿元)      827122.00  743585.0  689052.1  643974.0  595244.4  540367.4   \n",
       "国内生产总值增长率(%)        11.23       6.7       6.9       7.3       7.8       7.9   \n",
       "人均国内生产总值(元/人)        0.00   53935.0   50251.0   47203.0   43852.0   40007.0   \n",
       "人均国内生产总值增长率(%)       0.00       6.1       6.4       6.8       7.2       7.3   \n",
       "居民消费水平(亿元)      327298.00  297990.0  271306.0  248892.0  226660.0  205786.0   \n",
       "投资(亿元)          499824.00  445595.0  417746.1  395082.0  368584.4  334581.4   \n",
       "\n",
       "                   2011年  \n",
       "国内生产总值(亿元)      489300.6  \n",
       "国内生产总值增长率(%)         9.5  \n",
       "人均国内生产总值(元/人)    36403.0  \n",
       "人均国内生产总值增长率(%)       9.0  \n",
       "居民消费水平(亿元)      183876.0  \n",
       "投资(亿元)          305424.6  "
      ]
     },
     "execution_count": 488,
     "metadata": {},
     "output_type": "execute_result"
    }
   ],
   "source": [
    "op2=[743585.00,6.70,53935.00,6.10,297990,445595.00]\n",
    "op3=[689052.10,6.90,50251.00,6.40,271306,417746.10]\n",
    "op4=[643974.00,7.30,47203.00,6.80,248892,395082.00]\n",
    "op5=[595244.40,7.80,43852.00,7.20,226660,368584.40]\n",
    "op6=[540367.40,7.90,40007.00,7.30,205786,334581.40]\n",
    "op7=[489300.60,9.50,36403.00,9.00,183876,305424.60]\n",
    "df2 = pd.DataFrame([op1,op2,op3,op4,op5,op6,op7])\n",
    "df2=df2.T\n",
    "df2.index=index\n",
    "df2.columns=name\n",
    "df2"
   ]
  },
  {
   "cell_type": "code",
   "execution_count": 484,
   "metadata": {},
   "outputs": [
    {
     "data": {
      "text/plain": [
       "359489.03090974764"
      ]
     },
     "execution_count": 484,
     "metadata": {},
     "output_type": "execute_result"
    }
   ],
   "source": [
    "xiaofei2018=op1[-2]*(1+alpha)\n",
    "xiaofei2018"
   ]
  },
  {
   "cell_type": "code",
   "execution_count": 495,
   "metadata": {},
   "outputs": [],
   "source": [
    "touzi2018=(xiaofei2018-xiaofei2017)*beta"
   ]
  },
  {
   "cell_type": "code",
   "execution_count": 540,
   "metadata": {},
   "outputs": [
    {
     "data": {
      "text/html": [
       "<div>\n",
       "<style>\n",
       "    .dataframe thead tr:only-child th {\n",
       "        text-align: right;\n",
       "    }\n",
       "\n",
       "    .dataframe thead th {\n",
       "        text-align: left;\n",
       "    }\n",
       "\n",
       "    .dataframe tbody tr th {\n",
       "        vertical-align: top;\n",
       "    }\n",
       "</style>\n",
       "<table border=\"1\" class=\"dataframe\">\n",
       "  <thead>\n",
       "    <tr style=\"text-align: right;\">\n",
       "      <th></th>\n",
       "      <th>2018年</th>\n",
       "      <th>2017年</th>\n",
       "      <th>2016年</th>\n",
       "      <th>2015年</th>\n",
       "      <th>2014年</th>\n",
       "      <th>2013年</th>\n",
       "      <th>2012年</th>\n",
       "      <th>2011年</th>\n",
       "    </tr>\n",
       "  </thead>\n",
       "  <tbody>\n",
       "    <tr>\n",
       "      <th>国内生产总值(亿元)</th>\n",
       "      <td>897037.00</td>\n",
       "      <td>827122.00</td>\n",
       "      <td>743585.0</td>\n",
       "      <td>689052.1</td>\n",
       "      <td>643974.0</td>\n",
       "      <td>595244.4</td>\n",
       "      <td>540367.4</td>\n",
       "      <td>489300.6</td>\n",
       "    </tr>\n",
       "    <tr>\n",
       "      <th>国内生产总值增长率(%)</th>\n",
       "      <td>8.45</td>\n",
       "      <td>11.23</td>\n",
       "      <td>6.7</td>\n",
       "      <td>6.9</td>\n",
       "      <td>7.3</td>\n",
       "      <td>7.8</td>\n",
       "      <td>7.9</td>\n",
       "      <td>9.5</td>\n",
       "    </tr>\n",
       "    <tr>\n",
       "      <th>人均国内生产总值(元/人)</th>\n",
       "      <td>0.00</td>\n",
       "      <td>0.00</td>\n",
       "      <td>53935.0</td>\n",
       "      <td>50251.0</td>\n",
       "      <td>47203.0</td>\n",
       "      <td>43852.0</td>\n",
       "      <td>40007.0</td>\n",
       "      <td>36403.0</td>\n",
       "    </tr>\n",
       "    <tr>\n",
       "      <th>人均国内生产总值增长率(%)</th>\n",
       "      <td>0.00</td>\n",
       "      <td>0.00</td>\n",
       "      <td>6.1</td>\n",
       "      <td>6.4</td>\n",
       "      <td>6.8</td>\n",
       "      <td>7.2</td>\n",
       "      <td>7.3</td>\n",
       "      <td>9.0</td>\n",
       "    </tr>\n",
       "    <tr>\n",
       "      <th>居民消费水平(亿元)</th>\n",
       "      <td>359489.00</td>\n",
       "      <td>327298.00</td>\n",
       "      <td>297990.0</td>\n",
       "      <td>271306.0</td>\n",
       "      <td>248892.0</td>\n",
       "      <td>226660.0</td>\n",
       "      <td>205786.0</td>\n",
       "      <td>183876.0</td>\n",
       "    </tr>\n",
       "    <tr>\n",
       "      <th>投资(亿元)</th>\n",
       "      <td>537548.00</td>\n",
       "      <td>499824.00</td>\n",
       "      <td>445595.0</td>\n",
       "      <td>417746.1</td>\n",
       "      <td>395082.0</td>\n",
       "      <td>368584.4</td>\n",
       "      <td>334581.4</td>\n",
       "      <td>305424.6</td>\n",
       "    </tr>\n",
       "  </tbody>\n",
       "</table>\n",
       "</div>"
      ],
      "text/plain": [
       "                    2018年      2017年     2016年     2015年     2014年     2013年  \\\n",
       "国内生产总值(亿元)      897037.00  827122.00  743585.0  689052.1  643974.0  595244.4   \n",
       "国内生产总值增长率(%)         8.45      11.23       6.7       6.9       7.3       7.8   \n",
       "人均国内生产总值(元/人)        0.00       0.00   53935.0   50251.0   47203.0   43852.0   \n",
       "人均国内生产总值增长率(%)       0.00       0.00       6.1       6.4       6.8       7.2   \n",
       "居民消费水平(亿元)      359489.00  327298.00  297990.0  271306.0  248892.0  226660.0   \n",
       "投资(亿元)          537548.00  499824.00  445595.0  417746.1  395082.0  368584.4   \n",
       "\n",
       "                   2012年     2011年  \n",
       "国内生产总值(亿元)      540367.4  489300.6  \n",
       "国内生产总值增长率(%)         7.9       9.5  \n",
       "人均国内生产总值(元/人)    40007.0   36403.0  \n",
       "人均国内生产总值增长率(%)       7.3       9.0  \n",
       "居民消费水平(亿元)      205786.0  183876.0  \n",
       "投资(亿元)          334581.4  305424.6  "
      ]
     },
     "execution_count": 540,
     "metadata": {},
     "output_type": "execute_result"
    }
   ],
   "source": [
    "touzi2018\n",
    "gdp2018=touzi2018+xiaofei2018\n",
    "op0=[int(gdp2018),round(((gdp2018/op1[0]-1)*100),2),0,0,int(xiaofei2018),int(touzi2018)]\n",
    "op2=[743585.00,6.70,53935.00,6.10,297990,445595.00]\n",
    "op3=[689052.10,6.90,50251.00,6.40,271306,417746.10]\n",
    "op4=[643974.00,7.30,47203.00,6.80,248892,395082.00]\n",
    "op5=[595244.40,7.80,43852.00,7.20,226660,368584.40]\n",
    "op6=[540367.40,7.90,40007.00,7.30,205786,334581.40]\n",
    "op7=[489300.60,9.50,36403.00,9.00,183876,305424.60]\n",
    "name=['2018年','2017年','2016年','2015年','2014年','2013年','2012年','2011年']\n",
    "df2 = pd.DataFrame([op0,op1,op2,op3,op4,op5,op6,op7])\n",
    "df2=df2.T\n",
    "df2.index=index\n",
    "df2.columns=name\n",
    "df2"
   ]
  },
  {
   "cell_type": "code",
   "execution_count": 539,
   "metadata": {},
   "outputs": [
    {
     "data": {
      "text/plain": [
       "2011-12-31    489300.6\n",
       "2012-12-31    540367.4\n",
       "2013-12-31    595244.4\n",
       "2014-12-31    643974.0\n",
       "2015-12-31    689052.1\n",
       "2016-12-31    743585.0\n",
       "2017-12-31    827122.0\n",
       "2018-12-31    897037.0\n",
       "dtype: float64"
      ]
     },
     "execution_count": 539,
     "metadata": {},
     "output_type": "execute_result"
    },
    {
     "data": {
      "image/png": "[encoded data removed]",
      "text/plain": [
       "<Figure size 864x576 with 1 Axes>"
      ]
     },
     "metadata": {},
     "output_type": "display_data"
    }
   ],
   "source": [
    "gdp = df2.loc[['国内生产总值(亿元)']]\n",
    "l=gdp.values.reshape(8,)\n",
    "l2=[]\n",
    "for each in l[::-1]:\n",
    "    l2.append(each)\n",
    "gdp_dta=pd.Series(l2)\n",
    "gdp_dta.index = pd.Index(sm.tsa.datetools.dates_from_range('2011','2018'))\n",
    "gdp_dta.plot(figsize=(12,8))\n",
    "gdp_dta"
   ]
  }
 ],
 "metadata": {
  "kernelspec": {
   "display_name": "Python 3",
   "language": "python",
   "name": "python3"
  },
  "language_info": {
   "codemirror_mode": {
    "name": "ipython",
    "version": 3
   },
   "file_extension": ".py",
   "mimetype": "text/x-python",
   "name": "python",
   "nbconvert_exporter": "python",
   "pygments_lexer": "ipython3",
   "version": "3.6.5"
  }
 },
 "nbformat": 4,
 "nbformat_minor": 2
}
